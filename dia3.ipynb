{
 "cells": [
  {
   "cell_type": "code",
   "execution_count": 12,
   "id": "c7e45a27",
   "metadata": {},
   "outputs": [
    {
     "name": "stdout",
     "output_type": "stream",
     "text": [
      "hola\n"
     ]
    }
   ],
   "source": [
    "def inprimir_palabra ():\n",
    "    palabra = \"hola\"\n",
    "    print(palabra)\n",
    "\n",
    "inprimir_palabra()\n"
   ]
  },
  {
   "cell_type": "code",
   "execution_count": 19,
   "id": "0adedc99",
   "metadata": {},
   "outputs": [
    {
     "name": "stdout",
     "output_type": "stream",
     "text": [
      "las letras son iguales\n"
     ]
    }
   ],
   "source": [
    "def comparar_letras(letra1, letra2):\n",
    "    if  letra1 == letra2:\n",
    "        print (\"las letras son iguales\")\n",
    "    elif letra1 == letra2:\n",
    "        print (\"la letra no son iguales\")\n",
    "\n",
    "comparar_letras(\"o\", \"o\")\n",
    "\n"
   ]
  },
  {
   "cell_type": "code",
   "execution_count": null,
   "id": "766ab2c8",
   "metadata": {},
   "outputs": [
    {
     "name": "stdout",
     "output_type": "stream",
     "text": [
      "holaf\n",
      "la cantidad de numero no coinside con la palabra\n"
     ]
    },
    {
     "data": {
      "text/plain": [
       "False"
      ]
     },
     "execution_count": 43,
     "metadata": {},
     "output_type": "execute_result"
    }
   ],
   "source": [
    "def conparacion_palabra_numero (palabra, numero):\n",
    "    palabra = input(\"dime una palabra\")\n",
    "    numero = input(\"dime un numero\")\n",
    "    print (palabra)\n",
    "    len (palabra)\n",
    "\n",
    "    if len (palabra) == numero:\n",
    "        print(\"la cantidad de numero coinsiden con la palabra\")\n",
    "        return True\n",
    "    else:\n",
    "        print (\"la cantidad de numero no coinside con la palabra\")\n",
    "        return False\n",
    "    \n",
    "conparacion_palabra_numero(\"hola\", 4)"
   ]
  },
  {
   "cell_type": "code",
   "execution_count": null,
   "id": "1b321c21",
   "metadata": {},
   "outputs": [
    {
     "name": "stdout",
     "output_type": "stream",
     "text": [
      "[['h', 'o', 'l', 'a']]\n",
      "[['h', 'o', 'l', 'a'], ['c', 'h', 'a', 'u']]\n",
      "[['h', 'o', 'l', 'a'], ['c', 'h', 'a', 'u'], ['h', 'e', 'y']]\n"
     ]
    }
   ],
   "source": [
    "lista_de_listas = []\n",
    "\n",
    "palabra = input(\"primera palabra\")\n",
    "lista = list(palabra) \n",
    "lista_de_listas.append (lista)\n",
    "print (lista_de_listas)\n",
    "\n",
    "palabra1 = input(\"segunda palabra\")\n",
    "lista1 = list(palabra1)\n",
    "lista_de_listas.append (lista1)\n",
    "print(lista_de_listas)\n",
    "\n",
    "palabra2 = input(\"tercera palabra\")\n",
    "lista2 = list(palabra2)\n",
    "lista_de_listas.append (lista2)\n",
    "print(lista_de_listas)"
   ]
  },
  {
   "cell_type": "markdown",
   "id": "7258061f",
   "metadata": {},
   "source": [
    "## Challenge 6 🤺 - 25m\n",
    "\n",
    "Dada la lista de ejemplo: \n",
    "\n",
    "lista = [['h', 'o', 'l', 'i', 's'], ['h', 'e', 'l', 'l', 'o'], ['h', 'a', 'l', 'l', 'o']]\n",
    "\n",
    "Crear una función que imprima una grilla (lista de listas), una línea por cada lista dentro de la lista principal.\n",
    "\n",
    "Ejemplo del resultado esperado:\n",
    "\n",
    "```\n",
    "['h', 'o', 'l', 'i', 's']\n",
    "['h', 'e', 'l', 'l', 'o']\n",
    "['h', 'a', 'l', 'l', 'o']\n",
    "```"
   ]
  },
  {
   "cell_type": "code",
   "execution_count": 50,
   "id": "b7c4c3dd",
   "metadata": {},
   "outputs": [
    {
     "name": "stdout",
     "output_type": "stream",
     "text": [
      "['h', 'o', 'l', 'i', 's']\n",
      "['h', 'e', 'l', 'l', 'o']\n",
      "['h', 'a', 'l', 'l', 'o']\n"
     ]
    }
   ],
   "source": [
    "\n",
    "lista = [['h', 'o', 'l', 'i', 's'], ['h', 'e', 'l', 'l', 'o'], ['h', 'a', 'l', 'l', 'o']]\n",
    "\n",
    "def imprimir_con_salto(lista_imprimir):\n",
    "    for i in lista_imprimir:\n",
    "        lista = list(i)\n",
    "        print(lista)\n",
    "\n",
    "imprimir_con_salto(lista)"
   ]
  },
  {
   "cell_type": "markdown",
   "id": "3c156342",
   "metadata": {},
   "source": [
    "INICIAR Juego\n",
    "\n",
    "DEFINIR palabra a encontrar =nueve\n",
    "\n",
    "DEFINIR cantidad de letras=5\n",
    "\n",
    "DEFINIR Intentos=3\n",
    "\n",
    "CREAR getlla vacía (Lista para mostrar of progreso del Jugader)\n",
    "\n",
    "NOSTRAR mensaje de bienvenido"
   ]
  },
  {
   "cell_type": "code",
   "execution_count": 1,
   "id": "70883cd4",
   "metadata": {},
   "outputs": [
    {
     "name": "stdout",
     "output_type": "stream",
     "text": [
      "     hola bro\n",
      "bienvenidos al juego\n",
      "¡correcto! has encontrado la palabra secreta\n"
     ]
    }
   ],
   "source": [
    "palabra_secreta = 'nueve'\n",
    "\n",
    "print (\"     hola bro\")\n",
    "print (\"bienvenidos al juego\")\n",
    "\n",
    "def palabra_a_encontrar():\n",
    "\tpalabra_ingresada = input(\"Dime una palabra: \")\n",
    "\treturn palabra_ingresada\n",
    "\n",
    "while True:\n",
    "\tpalabra_ingresada = palabra_a_encontrar()\n",
    "\tif palabra_ingresada == palabra_secreta:\n",
    "\t\tprint(\"¡correcto! has encontrado la palabra secreta\")\n",
    "\t\tbreak\n",
    "\telse:\n",
    "\t\tprint(\"-1\", \"intento fallido\")"
   ]
  }
 ],
 "metadata": {
  "kernelspec": {
   "display_name": "Python 3",
   "language": "python",
   "name": "python3"
  },
  "language_info": {
   "codemirror_mode": {
    "name": "ipython",
    "version": 3
   },
   "file_extension": ".py",
   "mimetype": "text/x-python",
   "name": "python",
   "nbconvert_exporter": "python",
   "pygments_lexer": "ipython3",
   "version": "3.13.3"
  }
 },
 "nbformat": 4,
 "nbformat_minor": 5
}
