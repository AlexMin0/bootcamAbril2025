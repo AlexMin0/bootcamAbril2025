{
 "cells": [
  {
   "cell_type": "code",
   "execution_count": 4,
   "id": "3d987597",
   "metadata": {},
   "outputs": [
    {
     "name": "stdout",
     "output_type": "stream",
     "text": [
      "Hola mundo\n"
     ]
    }
   ],
   "source": [
    "print(\"Hola mundo\")"
   ]
  },
  {
   "cell_type": "code",
   "execution_count": 5,
   "id": "da9da366",
   "metadata": {},
   "outputs": [
    {
     "name": "stdout",
     "output_type": "stream",
     "text": [
      "5500\n",
      "1500\n"
     ]
    }
   ],
   "source": [
    "# suma\n",
    "\n",
    "cantidad_de_manzanas = 3000\n",
    "cantidad_de_naranjas = 2500\n",
    "cantidad_de_frutas = cantidad_de_manzanas + cantidad_de_naranjas\n",
    "\n",
    "print(cantidad_de_frutas)\n",
    "\n",
    "# resta \n",
    "\n",
    "frutas_vendidas = 4000\n",
    "frutas_restantes = cantidad_de_frutas - frutas_vendidas\n",
    "\n",
    "print(frutas_restantes) "
   ]
  },
  {
   "cell_type": "code",
   "execution_count": null,
   "id": "170ea643",
   "metadata": {},
   "outputs": [
    {
     "name": "stdout",
     "output_type": "stream",
     "text": [
      "hola me llamo hector sosa. muchos gusto.\n"
     ]
    }
   ],
   "source": [
    "nommbre = \"hector\"\n",
    "apellido = \"sosa\" \n",
    "print(f'hola me llamo {nommbre} {apellido}. muchos gusto.')"
   ]
  },
  {
   "cell_type": "code",
   "execution_count": 28,
   "id": "7a60de1f",
   "metadata": {},
   "outputs": [
    {
     "name": "stdout",
     "output_type": "stream",
     "text": [
      "5\n"
     ]
    }
   ],
   "source": [
    "numero1 = input(\"ingrese un numero: \")\n",
    "numero2 = input(\"ingrese otro numero: \")\n",
    "print(int(numero1) + int(numero2))"
   ]
  },
  {
   "cell_type": "code",
   "execution_count": 31,
   "id": "387ba2d7",
   "metadata": {},
   "outputs": [
    {
     "name": "stdout",
     "output_type": "stream",
     "text": [
      "entrar en la app de playstore\n",
      "buscar la app de spotify\n",
      "descargar la app\n",
      "abrir la app\n",
      "iniciar sesion\n",
      "buscar la cancion que quieres escuchar\n",
      "darle al boton de play\n",
      "disfrutar de la musica\n",
      "entrar en la app de playstore\n",
      "buscar la app de spotify\n",
      "descargar la app\n",
      "abrir la app\n",
      "iniciar sesion\n",
      "buscar la cancion que quieres escuchar\n",
      "darle al boton de play\n",
      "disfrutar de la musica\n",
      "entrar en la app de playstore\n",
      "buscar la app de spotify\n",
      "descargar la app\n",
      "abrir la app\n",
      "iniciar sesion\n",
      "buscar la cancion que quieres escuchar\n",
      "darle al boton de play\n",
      "disfrutar de la musica\n"
     ]
    }
   ],
   "source": [
    "def como_poner_musica():\n",
    "    print(\"entrar en la app de playstore\")\n",
    "    print(\"buscar la app de spotify\")\n",
    "    print(\"descargar la app\")\n",
    "    print(\"abrir la app\")\n",
    "    print(\"iniciar sesion\")\n",
    "    print(\"buscar la cancion que quieres escuchar\")\n",
    "    print(\"darle al boton de play\")\n",
    "    print(\"disfrutar de la musica\")\n",
    "\n",
    "como_poner_musica()\n",
    "como_poner_musica()\n",
    "como_poner_musica()"
   ]
  },
  {
   "cell_type": "code",
   "execution_count": 41,
   "id": "4f69d8ae",
   "metadata": {},
   "outputs": [
    {
     "name": "stdout",
     "output_type": "stream",
     "text": [
      "telefono de 128 gb\n"
     ]
    }
   ],
   "source": [
    "def comprar_telefono (alamcenamiento):\n",
    "    print(f\"telefono de {alamcenamiento} gb\")\n",
    " \n",
    "\n",
    "comprar_telefono(128)\n",
    "\n"
   ]
  },
  {
   "cell_type": "code",
   "execution_count": null,
   "id": "914e8abf",
   "metadata": {},
   "outputs": [],
   "source": []
  }
 ],
 "metadata": {
  "kernelspec": {
   "display_name": "Python 3",
   "language": "python",
   "name": "python3"
  },
  "language_info": {
   "codemirror_mode": {
    "name": "ipython",
    "version": 3
   },
   "file_extension": ".py",
   "mimetype": "text/x-python",
   "name": "python",
   "nbconvert_exporter": "python",
   "pygments_lexer": "ipython3",
   "version": "3.13.3"
  }
 },
 "nbformat": 4,
 "nbformat_minor": 5
}
