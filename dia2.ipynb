{
 "cells": [
  {
   "cell_type": "code",
   "execution_count": 8,
   "id": "458ac959",
   "metadata": {},
   "outputs": [
    {
     "name": "stdout",
     "output_type": "stream",
     "text": [
      "juguito nomas\n"
     ]
    }
   ],
   "source": [
    "edad_para_beber = 15\n",
    "if edad_para_beber > 18:\n",
    "    print(\"podes tomar pero no comprar\")\n",
    "elif edad_para_beber < 18:\n",
    "    print(\"juguito nomas\")\n",
    "elif edad_para_beber >= 21:\n",
    "    print(\"hace lo que quieras\")\n"
   ]
  },
  {
   "cell_type": "code",
   "execution_count": 22,
   "id": "daaf8e57",
   "metadata": {},
   "outputs": [
    {
     "name": "stdout",
     "output_type": "stream",
     "text": [
      "hakuuuuro\n"
     ]
    }
   ],
   "source": [
    "def chacar_temperatura (grados_celsius):\n",
    "    if grados_celsius >= -10 and grados_celsius <18:\n",
    "        print(\"fresquete\")\n",
    "    elif grados_celsius >= 19 and grados_celsius <30:\n",
    "        print(\"calor'i\")\n",
    "    elif grados_celsius >= 31 and grados_celsius <45:\n",
    "        print(\"hakuuuuro\")\n",
    "    else:\n",
    "        print(\"Ña mano mba'e\")\n",
    "    \n",
    "chacar_temperatura (36)\n",
    "    \n",
    "\n"
   ]
  },
  {
   "cell_type": "code",
   "execution_count": null,
   "id": "686087cd",
   "metadata": {},
   "outputs": [
    {
     "name": "stdout",
     "output_type": "stream",
     "text": [
      "contraseña \n"
     ]
    }
   ],
   "source": [
    "while True:\n",
    "    contraseña = input(\"ingrese la contraseña: \")\n",
    "    if contraseña == \"686\":\n",
    "        print(\"contraseña corecta\")\n",
    "        break\n",
    "    else:\n",
    "        print(\"contraseña incorrecta\")"
   ]
  },
  {
   "cell_type": "code",
   "execution_count": 45,
   "id": "245b4f6f",
   "metadata": {},
   "outputs": [
    {
     "name": "stdout",
     "output_type": "stream",
     "text": [
      "['perro', 'gato', 'loro', 'pajaro', 'tortuga', 'caballo']\n",
      "['perro', 'cocodrilo', 'loro', 'pajaro', 'tortuga', 'caballo']\n",
      "['perro', 'cocodrilo', 'pajaro', 'tortuga', 'caballo']\n",
      "['perro', 'cocodrilo', 'pajaro', 'tortuga']\n"
     ]
    }
   ],
   "source": [
    "lista_de_animales= [\"perro\", \"gato\", \"loro\", \"pajaro\", \"tortuga\"]\n",
    "lista_de_animales.append(\"caballo\")\n",
    "print(lista_de_animales)\n",
    "\n",
    "lista_de_animales[1] = 'cocodrilo'\n",
    "print(lista_de_animales)\n",
    "\n",
    "lista_de_animales.pop(2)\n",
    "print(lista_de_animales)\n",
    "\n",
    "lista_de_animales.remove(\"caballo\")\n",
    "print(lista_de_animales)\n",
    "\n",
    "\n",
    "\n",
    "\n"
   ]
  },
  {
   "cell_type": "code",
   "execution_count": null,
   "id": "6b32625d",
   "metadata": {},
   "outputs": [
    {
     "name": "stdout",
     "output_type": "stream",
     "text": [
      "0\n",
      "2\n",
      "4\n",
      "6\n",
      "8\n",
      "10\n",
      "12\n",
      "14\n",
      "16\n",
      "18\n",
      "20\n"
     ]
    }
   ],
   "source": [
    "for multiplicar in range(11):\n",
    "    print (multiplicar * 2)"
   ]
  },
  {
   "cell_type": "code",
   "execution_count": 55,
   "id": "418f317a",
   "metadata": {},
   "outputs": [
    {
     "name": "stdout",
     "output_type": "stream",
     "text": [
      "alfa romeo\n",
      "10\n",
      "tiene 6 letras\n",
      "porche\n",
      "6\n",
      "tiene menos de 6 letras\n",
      "toyota\n",
      "6\n",
      "tiene menos de 6 letras\n",
      "chevrolet\n",
      "9\n",
      "tiene 6 letras\n",
      "nissan\n",
      "6\n",
      "tiene menos de 6 letras\n"
     ]
    }
   ],
   "source": [
    "\n",
    "#len devuelve la cantidad de elementos de una lista\n",
    "for marcas in [\"alfa romeo\", \"porche\", \"toyota\", \"chevrolet\", \"nissan\"]:\n",
    "    print(marcas)\n",
    "    print(len(marcas))\n",
    "    if len (marcas) > 6:\n",
    "        print(\"tiene 6 letras\")\n",
    "    else:\n",
    "        print(\"tiene menos de 6 letras\")\n"
   ]
  },
  {
   "cell_type": "code",
   "execution_count": 64,
   "id": "76789771",
   "metadata": {},
   "outputs": [
    {
     "name": "stdout",
     "output_type": "stream",
     "text": [
      "o encontre la letra o\n"
     ]
    }
   ],
   "source": [
    "for frace in (input(\"dime una frace\")):\n",
    "    if frace == \"o\":\n",
    "        print(frace, \"encontre la letra o\")\n",
    "\n",
    "\n",
    "    \n",
    "    \n",
    "\n"
   ]
  }
 ],
 "metadata": {
  "kernelspec": {
   "display_name": "Python 3",
   "language": "python",
   "name": "python3"
  },
  "language_info": {
   "codemirror_mode": {
    "name": "ipython",
    "version": 3
   },
   "file_extension": ".py",
   "mimetype": "text/x-python",
   "name": "python",
   "nbconvert_exporter": "python",
   "pygments_lexer": "ipython3",
   "version": "3.13.3"
  }
 },
 "nbformat": 4,
 "nbformat_minor": 5
}
